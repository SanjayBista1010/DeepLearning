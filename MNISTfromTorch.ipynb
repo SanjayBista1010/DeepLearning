{
  "nbformat": 4,
  "nbformat_minor": 0,
  "metadata": {
    "colab": {
      "provenance": [],
      "authorship_tag": "ABX9TyMulY33B4OazKmFBO2k9GoY",
      "include_colab_link": true
    },
    "kernelspec": {
      "name": "python3",
      "display_name": "Python 3"
    },
    "language_info": {
      "name": "python"
    }
  },
  "cells": [
    {
      "cell_type": "markdown",
      "metadata": {
        "id": "view-in-github",
        "colab_type": "text"
      },
      "source": [
        "<a href=\"https://colab.research.google.com/github/SanjayBista1010/DeepLearning/blob/main/MNISTfromTorch.ipynb\" target=\"_parent\"><img src=\"https://colab.research.google.com/assets/colab-badge.svg\" alt=\"Open In Colab\"/></a>"
      ]
    },
    {
      "cell_type": "code",
      "execution_count": null,
      "metadata": {
        "id": "iIfPWhNO-V_o"
      },
      "outputs": [],
      "source": [
        "import torch\n",
        "import torch.nn.functional as F\n",
        "import torchvision.datasets as datasets\n",
        "import torchvision.transforms as transforms\n",
        "from torch import optim\n",
        "from torch import nn\n",
        "from torch.utils.data import DataLoader\n",
        "from tqdm import tqdm"
      ]
    },
    {
      "cell_type": "code",
      "source": [
        "class CNN(nn.Module):\n",
        "  def __init__(self, in_channels, num_classes=10):\n",
        "    super().__init__()\n",
        "\n",
        "    #first convolution layer: 1 input channel, 8 output channels, 3x3 kernel, stride 1, padding 1\n",
        "    self.conv1 = nn.Conv2d(in_channels=in_channels, out_channels=8, kernel_size=3, stride = 1, padding = 1)\n",
        "\n",
        "    #max pooling layer: 2x2 window, stride 2\n",
        "    self.pool = nn.MaxPool2d(kernel_size=2, stride=2)\n",
        "\n",
        "    #second convolution layer: 8 input channels, 16 o/p channels, 3x3 kernel, stride 1, padding =1\n",
        "    self.conv2 = nn.Conv2d(in_channels = 8, out_channels = 16, kernel_size = 3, stride = 1, padding = 1)\n",
        "\n",
        "    #full connected layer: 16*7*7 input features (after two 2x2 poolings), 10 outputs features (num_classes)\n",
        "    self.fc1 = nn.Linear(16 * 7 * 7, num_classes)\n",
        "\n",
        "  def forward(self, x):\n",
        "\n",
        "    x= F.relu(self.conv1(x)) #apply first concolution and ReLU activation\n",
        "    x= self.pool(x) #apply max pooling\n",
        "    x = F.relu(self.conv2(x)) #apply sencond convolution and ReLU activation\n",
        "    x = self.pool(x) #apply max pooling\n",
        "    x= x.reshape(x.shape[0], -1) #flatten the tensor\n",
        "    x = self.fc1(x) #apply fully connected layer\n",
        "    return x"
      ],
      "metadata": {
        "id": "hEqhU2zr-9zv"
      },
      "execution_count": null,
      "outputs": []
    },
    {
      "cell_type": "code",
      "source": [
        "device = 'cuda' if torch.cuda.is_available() else 'cpu'"
      ],
      "metadata": {
        "id": "Y-aS_5P9BqUW"
      },
      "execution_count": null,
      "outputs": []
    },
    {
      "cell_type": "code",
      "source": [
        "input_size = 784\n",
        "num_classes = 10\n",
        "learning_rate = 0.001\n",
        "batch_size = 64\n",
        "num_epochs = 10"
      ],
      "metadata": {
        "id": "Vzc0AhJtBxKA"
      },
      "execution_count": null,
      "outputs": []
    },
    {
      "cell_type": "code",
      "source": [
        "train_dataset = datasets.MNIST(root='dataset/', download=True, train=True, transform=transforms.ToTensor())\n",
        "train_loader = DataLoader(dataset=train_dataset, batch_size=batch_size, shuffle = True)\n",
        "\n",
        "test_dataset = datasets.MNIST(root='dataset/', download=True, train=False, transform=transforms.ToTensor())\n",
        "test_loader = DataLoader(dataset=test_dataset, batch_size=batch_size, shuffle = True)\n"
      ],
      "metadata": {
        "id": "1jRwfOiuB581"
      },
      "execution_count": null,
      "outputs": []
    },
    {
      "cell_type": "code",
      "source": [
        "model = CNN(in_channels =1, num_classes=num_classes).to(device)"
      ],
      "metadata": {
        "id": "ZKmRXYdrCe5u"
      },
      "execution_count": null,
      "outputs": []
    },
    {
      "cell_type": "code",
      "source": [
        "criterion = nn.CrossEntropyLoss()\n",
        "optimizer = optim.Adam(model.parameters(), lr=learning_rate)"
      ],
      "metadata": {
        "id": "Cb_3QGiGClHL"
      },
      "execution_count": null,
      "outputs": []
    },
    {
      "cell_type": "code",
      "source": [
        "for epoch in range(num_epochs):\n",
        "    print(f\"Epoch [{epoch + 1}/{num_epochs}]\")\n",
        "    for batch_index, (data, targets) in enumerate(tqdm(train_loader)):\n",
        "        #move data and targets to the device (GPU/CPU)\n",
        "        data = data.to(device)\n",
        "        targets = targets.to(device)\n",
        "\n",
        "        #forward pass: compute the model output\n",
        "        scores = model(data)\n",
        "        loss = criterion(scores, targets)\n",
        "\n",
        "        #backward pass: compute the gradients\n",
        "        optimizer.zero_grad()\n",
        "        loss.backward()\n",
        "\n",
        "        #optimization step: update the model parameters\n",
        "        optimizer.step()"
      ],
      "metadata": {
        "colab": {
          "base_uri": "https://localhost:8080/"
        },
        "id": "0UgYNCW7CoIz",
        "outputId": "a85c02b3-767e-4e2d-fcbe-bbef0965de23"
      },
      "execution_count": null,
      "outputs": [
        {
          "output_type": "stream",
          "name": "stdout",
          "text": [
            "Epoch [1/10]\n"
          ]
        },
        {
          "output_type": "stream",
          "name": "stderr",
          "text": [
            "100%|██████████| 938/938 [00:31<00:00, 29.63it/s]\n"
          ]
        },
        {
          "output_type": "stream",
          "name": "stdout",
          "text": [
            "Epoch [2/10]\n"
          ]
        },
        {
          "output_type": "stream",
          "name": "stderr",
          "text": [
            "100%|██████████| 938/938 [00:29<00:00, 31.57it/s]\n"
          ]
        },
        {
          "output_type": "stream",
          "name": "stdout",
          "text": [
            "Epoch [3/10]\n"
          ]
        },
        {
          "output_type": "stream",
          "name": "stderr",
          "text": [
            "100%|██████████| 938/938 [00:29<00:00, 32.16it/s]\n"
          ]
        },
        {
          "output_type": "stream",
          "name": "stdout",
          "text": [
            "Epoch [4/10]\n"
          ]
        },
        {
          "output_type": "stream",
          "name": "stderr",
          "text": [
            "100%|██████████| 938/938 [00:29<00:00, 32.20it/s]\n"
          ]
        },
        {
          "output_type": "stream",
          "name": "stdout",
          "text": [
            "Epoch [5/10]\n"
          ]
        },
        {
          "output_type": "stream",
          "name": "stderr",
          "text": [
            "100%|██████████| 938/938 [00:30<00:00, 31.17it/s]\n"
          ]
        },
        {
          "output_type": "stream",
          "name": "stdout",
          "text": [
            "Epoch [6/10]\n"
          ]
        },
        {
          "output_type": "stream",
          "name": "stderr",
          "text": [
            "100%|██████████| 938/938 [00:29<00:00, 32.25it/s]\n"
          ]
        },
        {
          "output_type": "stream",
          "name": "stdout",
          "text": [
            "Epoch [7/10]\n"
          ]
        },
        {
          "output_type": "stream",
          "name": "stderr",
          "text": [
            "100%|██████████| 938/938 [00:28<00:00, 32.37it/s]\n"
          ]
        },
        {
          "output_type": "stream",
          "name": "stdout",
          "text": [
            "Epoch [8/10]\n"
          ]
        },
        {
          "output_type": "stream",
          "name": "stderr",
          "text": [
            "100%|██████████| 938/938 [00:28<00:00, 32.38it/s]\n"
          ]
        },
        {
          "output_type": "stream",
          "name": "stdout",
          "text": [
            "Epoch [9/10]\n"
          ]
        },
        {
          "output_type": "stream",
          "name": "stderr",
          "text": [
            "100%|██████████| 938/938 [00:29<00:00, 32.28it/s]\n"
          ]
        },
        {
          "output_type": "stream",
          "name": "stdout",
          "text": [
            "Epoch [10/10]\n"
          ]
        },
        {
          "output_type": "stream",
          "name": "stderr",
          "text": [
            "100%|██████████| 938/938 [00:28<00:00, 32.95it/s]\n"
          ]
        }
      ]
    },
    {
      "cell_type": "code",
      "source": [
        "def check_accuracy(loader, model):\n",
        "\n",
        "    if loader.dataset.train:\n",
        "        print(\"Checking accuracy on training data\")\n",
        "    else:\n",
        "        print(\"Checking accuracy on test data\")\n",
        "\n",
        "    num_correct = 0\n",
        "    num_samples = 0\n",
        "    model.eval()  # Set the model to evaluation mode\n",
        "\n",
        "    with torch.no_grad():  #disable gradient calculation\n",
        "        for x, y in loader:\n",
        "            x = x.to(device)\n",
        "            y = y.to(device)\n",
        "\n",
        "            #forward pass: compute the model output\n",
        "            scores = model(x)\n",
        "            _, predictions = scores.max(1)  #get the index of the max log-probability\n",
        "            num_correct += (predictions == y).sum()  #count correct predictions\n",
        "            num_samples += predictions.size(0)  #count total samples\n",
        "\n",
        "        #calculate accuracy\n",
        "        accuracy = float(num_correct) / float(num_samples) * 100\n",
        "        print(f\"Got {num_correct}/{num_samples} with accuracy {accuracy:.2f}%\")\n",
        "\n",
        "    model.train()  #set the model back to training mode\n",
        "\n",
        "#final accuracy check on training and test sets\n",
        "check_accuracy(train_loader, model)\n",
        "check_accuracy(test_loader, model)"
      ],
      "metadata": {
        "colab": {
          "base_uri": "https://localhost:8080/"
        },
        "id": "4AACz0STCsDJ",
        "outputId": "7833302d-6080-4b5f-c83f-0ea534345e02"
      },
      "execution_count": null,
      "outputs": [
        {
          "output_type": "stream",
          "name": "stdout",
          "text": [
            "Checking accuracy on training data\n",
            "Got 59487/60000 with accuracy 99.15%\n",
            "Checking accuracy on test data\n",
            "Got 9861/10000 with accuracy 98.61%\n"
          ]
        }
      ]
    }
  ]
}