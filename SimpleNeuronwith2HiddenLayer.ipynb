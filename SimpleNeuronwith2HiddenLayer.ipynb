{
  "nbformat": 4,
  "nbformat_minor": 0,
  "metadata": {
    "colab": {
      "provenance": [],
      "authorship_tag": "ABX9TyOF7mbNDxxXgXkWsMPDMeri",
      "include_colab_link": true
    },
    "kernelspec": {
      "name": "python3",
      "display_name": "Python 3"
    },
    "language_info": {
      "name": "python"
    }
  },
  "cells": [
    {
      "cell_type": "markdown",
      "metadata": {
        "id": "view-in-github",
        "colab_type": "text"
      },
      "source": [
        "<a href=\"https://colab.research.google.com/github/SanjayBista1010/DeepLearning/blob/main/SimpleNeuronwith2HiddenLayer.ipynb\" target=\"_parent\"><img src=\"https://colab.research.google.com/assets/colab-badge.svg\" alt=\"Open In Colab\"/></a>"
      ]
    },
    {
      "cell_type": "code",
      "execution_count": 27,
      "metadata": {
        "colab": {
          "base_uri": "https://localhost:8080/"
        },
        "id": "qdEo-lhsdz2S",
        "outputId": "ad6d19b5-858d-4a9c-a04b-b823e96cff32"
      },
      "outputs": [
        {
          "output_type": "stream",
          "name": "stdout",
          "text": [
            "Epoch 0 MSE = 0.5000, w = -18, b = -1, w = -18, b = -1\n",
            "Epoch 100 MSE = 0.6667, w = -18, b = 12, w = -18, b = 12\n",
            "Epoch 200 MSE = 0.6667, w = -18, b = 12, w = -18, b = 12\n",
            "Epoch 300 MSE = 0.6667, w = -18, b = 12, w = -18, b = 12\n",
            "Epoch 400 MSE = 0.6667, w = -18, b = 12, w = -18, b = 12\n",
            "Epoch 500 MSE = 0.6667, w = -18, b = 12, w = -18, b = 12\n",
            "Epoch 600 MSE = 0.6667, w = -18, b = 12, w = -18, b = 12\n",
            "Epoch 700 MSE = 0.6667, w = -18, b = 12, w = -18, b = 12\n",
            "Epoch 800 MSE = 0.6667, w = -18, b = 12, w = -18, b = 12\n",
            "Epoch 900 MSE = 0.6667, w = -18, b = 12, w = -18, b = 12\n"
          ]
        }
      ],
      "source": [
        "import math\n",
        "import matplotlib.pyplot as plt\n",
        "\n",
        "\n",
        "x = [[1], [2], [3], [4], [5],[20]]\n",
        "y = [0, 0, 1, 1, 1,0]\n",
        "\n",
        "N = len(x)\n",
        "epochs = 1000\n",
        "w1 = 0\n",
        "w2 = 0\n",
        "\n",
        "b1=0\n",
        "b2=0\n",
        "\n",
        "for i in range(epochs):\n",
        "    total_error = 0\n",
        "    for j in range(N):\n",
        "        z1 = w1 * x[j][0] + b1\n",
        "        z2 = w2 * x[j][0] + b2\n",
        "\n",
        "        y_pred1 = (1 / (1 + math.exp(-z1)) >= 0.5)\n",
        "        y_pred2 = (1 / (1 + math.exp(-z2)) >= 0.5)\n",
        "\n",
        "        combined_y_pred = (y_pred1 + y_pred2)/2\n",
        "\n",
        "        final_pred = 1 if combined_y_pred >= 0.5 else 0\n",
        "\n",
        "        error=y[j]-final_pred\n",
        "\n",
        "        w1 = w1 + x[j][0] * error\n",
        "        w2 = w2 + x[j][0] * error\n",
        "        b1 = b1 + error\n",
        "        b2 = b2 + error\n",
        "\n",
        "        total_error += error ** 2\n",
        "\n",
        "    if i % 100 == 0:\n",
        "        mse = total_error / N\n",
        "        print(f\"Epoch {i} MSE = {mse:.4f}, w = {w1}, b = {b1}, w = {w2}, b = {b2}\")"
      ]
    },
    {
      "cell_type": "code",
      "source": [
        "import math\n",
        "import matplotlib.pyplot as plt\n",
        "\n",
        "\n",
        "x = [[1], [2], [3], [4], [5],[20]]\n",
        "y = [0, 0, 1, 1, 1,0]\n",
        "\n",
        "N = len(x)\n",
        "epochs = 1000\n",
        "w1 = 0\n",
        "w2 = 0\n",
        "\n",
        "b1=0\n",
        "b2=0\n",
        "\n",
        "for i in range(epochs):\n",
        "    total_error = 0\n",
        "    for j in range(N):\n",
        "        z1 = w1 * x[j][0] + b1\n",
        "        z2 = w2 * x[j][0] + b2\n",
        "\n",
        "        y_pred1 = (1 / (1 + math.exp(-z1)) >= 0.5)\n",
        "        y_pred2 = (1 / (1 + math.exp(-z2)) >= 0.5)\n",
        "\n",
        "        combined_y_pred = (y_pred1 + y_pred2)/2\n",
        "\n",
        "        final_pred = 1 if combined_y_pred >= 0.5 else 0\n",
        "\n",
        "        error=y[j]-final_pred\n",
        "\n",
        "        w1 = w1 + x[j][0] * error\n",
        "        w2 = w2 + x[j][0] * error\n",
        "        b1 = b1 + error\n",
        "        b2 = b2 + error\n",
        "\n",
        "        total_error += error ** 2\n",
        "\n",
        "    if i % 100 == 0:\n",
        "        mse = total_error / N\n",
        "        print(f\"Epoch {i} MSE = {mse:.4f}, w = {w1}, b = {b1}, w = {w2}, b = {b2}\")"
      ],
      "metadata": {
        "id": "RwdmBoOkot6m"
      },
      "execution_count": null,
      "outputs": []
    },
    {
      "cell_type": "code",
      "source": [
        "import math\n",
        "import matplotlib.pyplot as plt\n",
        "\n",
        "\n",
        "x = [[1], [2], [3], [4], [5],[20]]\n",
        "y = [0, 0, 1, 1, 1,0]\n",
        "\n",
        "N = len(x)\n",
        "epochs = 1000\n",
        "w1 = 0\n",
        "w2 = 0\n",
        "\n",
        "b1=0\n",
        "b2=0\n",
        "\n",
        "for i in range(epochs):\n",
        "    total_error = 0\n",
        "    for j in range(N):\n",
        "        z1 = w1 * x[j][0] + b1\n",
        "        z2 = w2 * x[j][0] + b2\n",
        "\n",
        "        y_pred1 = (1 / (1 + math.exp(-z1)) >= 0.5)\n",
        "        y_pred2 = (1 / (1 + math.exp(-z2)) >= 0.5)\n",
        "\n",
        "        combined_y_pred = (y_pred1 + y_pred2)/2\n",
        "\n",
        "        final_pred = 1 if combined_y_pred >= 0.5 else 0\n",
        "\n",
        "        error=y[j]-final_pred\n",
        "\n",
        "        w1 = w1 + x[j][0] * error\n",
        "        w2 = w2 + x[j][0] * error\n",
        "        b1 = b1 + error\n",
        "        b2 = b2 + error\n",
        "\n",
        "        total_error += error ** 2\n",
        "\n",
        "    if i % 100 == 0:\n",
        "        mse = total_error / N\n",
        "        print(f\"Epoch {i} MSE = {mse:.4f}, w = {w1}, b = {b1}, w = {w2}, b = {b2}\")"
      ],
      "metadata": {
        "id": "7XllwcPepDx3"
      },
      "execution_count": null,
      "outputs": []
    },
    {
      "cell_type": "code",
      "source": [
        "import math\n",
        "\n",
        "x = [[1], [2], [3], [4], [5], [20]]\n",
        "y = [0, 0, 1, 1, 1, 0]\n",
        "\n",
        "N = len(x)\n",
        "epochs = 1000\n",
        "w1 = 0\n",
        "w2 = 0\n",
        "b1 = 0\n",
        "b2 = 0\n",
        "\n",
        "def sigmoid(z):\n",
        "    if z >= 0:\n",
        "        return 1 / (1 + math.exp(-z))\n",
        "    else:\n",
        "        return math.exp(z) / (1 + math.exp(z))\n",
        "\n",
        "for i in range(epochs):\n",
        "    total_error = 0\n",
        "    for j in range(N):\n",
        "        z1 = w1 * x[j][0] + b1\n",
        "        y_pred1 = sigmoid(z1)\n",
        "\n",
        "        z2 = w2 * y_pred1 + b2\n",
        "        y_pred2 = sigmoid(z2)\n",
        "\n",
        "        final_pred = 1 if y_pred2 >= 0.5 else 0\n",
        "\n",
        "        error = y[j] - final_pred\n",
        "        total_error += error ** 2\n",
        "\n",
        "        w2 += y_pred1 * error\n",
        "        b2 += error\n",
        "\n",
        "        w1 += x[j][0] * error\n",
        "        b1 += error\n",
        "\n",
        "    if i % 100 == 0:\n",
        "        mse = total_error / N\n",
        "        print(f\"Epoch {i} MSE = {mse:.4f}, w1 = {w1}, b1 = {b1}, w2 = {w2}, b2 = {b2}\")"
      ],
      "metadata": {
        "colab": {
          "base_uri": "https://localhost:8080/"
        },
        "id": "XLOxTTX6pjbl",
        "outputId": "d9693029-ee97-46c7-9c06-7bb1ad14f56f"
      },
      "execution_count": 31,
      "outputs": [
        {
          "output_type": "stream",
          "name": "stdout",
          "text": [
            "Epoch 0 MSE = 0.6667, w1 = -14, b1 = 0, w2 = -0.4823491401683748, b2 = 0\n",
            "Epoch 100 MSE = 0.3333, w1 = -1717, b1 = -1, w2 = -0.4823491401683748, b2 = -1\n",
            "Epoch 200 MSE = 0.3333, w1 = -3417, b1 = -1, w2 = -0.4823491401683748, b2 = -1\n",
            "Epoch 300 MSE = 0.3333, w1 = -5117, b1 = -1, w2 = -0.4823491401683748, b2 = -1\n",
            "Epoch 400 MSE = 0.3333, w1 = -6817, b1 = -1, w2 = -0.4823491401683748, b2 = -1\n",
            "Epoch 500 MSE = 0.3333, w1 = -8517, b1 = -1, w2 = -0.4823491401683748, b2 = -1\n",
            "Epoch 600 MSE = 0.3333, w1 = -10217, b1 = -1, w2 = -0.4823491401683748, b2 = -1\n",
            "Epoch 700 MSE = 0.3333, w1 = -11917, b1 = -1, w2 = -0.4823491401683748, b2 = -1\n",
            "Epoch 800 MSE = 0.3333, w1 = -13617, b1 = -1, w2 = -0.4823491401683748, b2 = -1\n",
            "Epoch 900 MSE = 0.3333, w1 = -15317, b1 = -1, w2 = -0.4823491401683748, b2 = -1\n"
          ]
        }
      ]
    }
  ]
}