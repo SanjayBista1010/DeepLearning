{
  "nbformat": 4,
  "nbformat_minor": 0,
  "metadata": {
    "colab": {
      "provenance": [],
      "authorship_tag": "ABX9TyMjKgCKe3MdfWmfCsEPI0Rr",
      "include_colab_link": true
    },
    "kernelspec": {
      "name": "python3",
      "display_name": "Python 3"
    },
    "language_info": {
      "name": "python"
    }
  },
  "cells": [
    {
      "cell_type": "markdown",
      "metadata": {
        "id": "view-in-github",
        "colab_type": "text"
      },
      "source": [
        "<a href=\"https://colab.research.google.com/github/SanjayBista1010/DeepLearning/blob/main/LinearRegressionPerceptron.ipynb\" target=\"_parent\"><img src=\"https://colab.research.google.com/assets/colab-badge.svg\" alt=\"Open In Colab\"/></a>"
      ]
    },
    {
      "cell_type": "code",
      "execution_count": 32,
      "metadata": {
        "id": "hhxe7YWssCEX",
        "colab": {
          "base_uri": "https://localhost:8080/"
        },
        "outputId": "b239da82-21a0-42a0-eb0b-1919ab8987e7"
      },
      "outputs": [
        {
          "output_type": "stream",
          "name": "stdout",
          "text": [
            "Epoch 0 MSE = 0.625, w1 = 8, w2 = -16, b = -1\n",
            "Epoch 100 MSE = 0.0, w1 = 20, w2 = -11, b = -1\n",
            "Epoch 200 MSE = 0.0, w1 = 20, w2 = -11, b = -1\n",
            "Epoch 300 MSE = 0.0, w1 = 20, w2 = -11, b = -1\n",
            "Epoch 400 MSE = 0.0, w1 = 20, w2 = -11, b = -1\n",
            "Epoch 500 MSE = 0.0, w1 = 20, w2 = -11, b = -1\n",
            "Epoch 600 MSE = 0.0, w1 = 20, w2 = -11, b = -1\n",
            "Epoch 700 MSE = 0.0, w1 = 20, w2 = -11, b = -1\n",
            "Epoch 800 MSE = 0.0, w1 = 20, w2 = -11, b = -1\n",
            "Epoch 900 MSE = 0.0, w1 = 20, w2 = -11, b = -1\n",
            "\n",
            "Final weights: w1 = 20, w2 = -11, b = -1\n"
          ]
        }
      ],
      "source": [
        "x = [[1,3], [2,5], [4,6], [4,7], [5,9],[3,8],[9,10],[1,21]]\n",
        "y = [0, 0, 1, 1, 1,0,1,0]\n",
        "\n",
        "N = len(x)\n",
        "w1 = 0\n",
        "w2 = 0\n",
        "b = 0\n",
        "epochs = 1000\n",
        "\n",
        "for i in range(epochs):\n",
        "    total_error = 0\n",
        "\n",
        "    for j in range(N):\n",
        "        y_pred = int(w1 * x[j][0] + w2 * x[j][1] + b >= 0)\n",
        "        error = y[j] - y_pred\n",
        "\n",
        "        w1 = w1 + x[j][0] * error\n",
        "        w2 = w2 + x[j][1] * error\n",
        "        b = b + error\n",
        "\n",
        "        total_error += error ** 2\n",
        "\n",
        "    if i % 100 == 0:\n",
        "        mse = total_error / N\n",
        "        print(f\"Epoch {i} MSE = {mse}, w1 = {w1}, w2 = {w2}, b = {b}\")\n",
        "\n",
        "print(f\"\\nFinal weights: w1 = {w1}, w2 = {w2}, b = {b}\")"
      ]
    },
    {
      "cell_type": "code",
      "source": [
        "import seaborn as sns\n",
        "x1 = [i[0] for i in x]\n",
        "x2 = [i[1] for i in x]\n",
        "\n",
        "sns.scatterplot(x=x1, y=x2, hue=y, palette='Set1')"
      ],
      "metadata": {
        "colab": {
          "base_uri": "https://localhost:8080/",
          "height": 447
        },
        "id": "gXCw0_P5KupQ",
        "outputId": "fde98985-91ad-479d-d121-a0e0774c843c"
      },
      "execution_count": 29,
      "outputs": [
        {
          "output_type": "execute_result",
          "data": {
            "text/plain": [
              "<Axes: >"
            ]
          },
          "metadata": {},
          "execution_count": 29
        },
        {
          "output_type": "display_data",
          "data": {
            "text/plain": [
              "<Figure size 640x480 with 1 Axes>"
            ],
            "image/png": "[encoded data removed]"
          },
          "metadata": {}
        }
      ]
    },
    {
      "cell_type": "code",
      "source": [
        "import numpy as np\n",
        "\n",
        "x = np.array([[1, 3], [2, 5], [4, 6], [4, 7], [5, 9], [3, 8], [9, 10], [1, 21]])\n",
        "y = np.array([0, 0, 1, 1, 1, 0, 1, 0])\n",
        "\n",
        "epochs = 1000\n",
        "N, num_features = x.shape\n",
        "w = np.zeros(num_features)\n",
        "b = 0\n",
        "\n",
        "for epoch in range(epochs):\n",
        "    total_error = 0\n",
        "\n",
        "    for i in range(N):\n",
        "        z = np.dot(w, x[i]) + b\n",
        "        y_pred = int(z >= 0)\n",
        "        error = y[i] - y_pred\n",
        "\n",
        "        w += error * x[i]\n",
        "        b += error\n",
        "        total_error += error ** 2\n",
        "\n",
        "    if epoch % 100 == 0:\n",
        "        mse = total_error / N\n",
        "        print(f\"Epoch {epoch} MSE = {mse:.4f}, w = {w}, b = {b}\")\n",
        "\n",
        "print(f\"\\nFinal weights: w = {w}, b = {b}\")\n"
      ],
      "metadata": {
        "colab": {
          "base_uri": "https://localhost:8080/"
        },
        "id": "BRLcyHU8LoNH",
        "outputId": "17f7ea54-a9b7-4ca4-a0d3-dd4e4ab0fe1c"
      },
      "execution_count": 31,
      "outputs": [
        {
          "output_type": "stream",
          "name": "stdout",
          "text": [
            "Epoch 0 MSE = 0.6250, w = [  8. -16.], b = -1\n",
            "Epoch 100 MSE = 0.0000, w = [ 20. -11.], b = -1\n",
            "Epoch 200 MSE = 0.0000, w = [ 20. -11.], b = -1\n",
            "Epoch 300 MSE = 0.0000, w = [ 20. -11.], b = -1\n",
            "Epoch 400 MSE = 0.0000, w = [ 20. -11.], b = -1\n",
            "Epoch 500 MSE = 0.0000, w = [ 20. -11.], b = -1\n",
            "Epoch 600 MSE = 0.0000, w = [ 20. -11.], b = -1\n",
            "Epoch 700 MSE = 0.0000, w = [ 20. -11.], b = -1\n",
            "Epoch 800 MSE = 0.0000, w = [ 20. -11.], b = -1\n",
            "Epoch 900 MSE = 0.0000, w = [ 20. -11.], b = -1\n",
            "\n",
            "Final weights: w = [ 20. -11.], b = -1\n"
          ]
        }
      ]
    }
  ]
}