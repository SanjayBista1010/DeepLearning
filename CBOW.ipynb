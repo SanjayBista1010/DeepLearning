{
  "nbformat": 4,
  "nbformat_minor": 0,
  "metadata": {
    "colab": {
      "provenance": [],
      "authorship_tag": "ABX9TyMTtbnge+/qIn3R1JAr3k84",
      "include_colab_link": true
    },
    "kernelspec": {
      "name": "python3",
      "display_name": "Python 3"
    },
    "language_info": {
      "name": "python"
    }
  },
  "cells": [
    {
      "cell_type": "markdown",
      "metadata": {
        "id": "view-in-github",
        "colab_type": "text"
      },
      "source": [
        "<a href=\"https://colab.research.google.com/github/SanjayBista1010/DeepLearning/blob/main/CBOW.ipynb\" target=\"_parent\"><img src=\"https://colab.research.google.com/assets/colab-badge.svg\" alt=\"Open In Colab\"/></a>"
      ]
    },
    {
      "cell_type": "code",
      "execution_count": 1,
      "metadata": {
        "id": "1sgZKrPLIRCF"
      },
      "outputs": [],
      "source": [
        "import torch\n",
        "import torch.nn as nn\n",
        "import torch.optim as optim\n",
        "from torch.utils.data import Dataset, DataLoader"
      ]
    },
    {
      "cell_type": "code",
      "source": [
        "sentences = [\n",
        "    \"i love cats\",\n",
        "    \"i love dogs\",\n",
        "    \"cats and dogs are friends\"\n",
        "]"
      ],
      "metadata": {
        "id": "uvXnjZbXKjui"
      },
      "execution_count": 2,
      "outputs": []
    },
    {
      "cell_type": "code",
      "source": [
        "words = \" \".join(sentences).split()\n",
        "print(words)\n",
        "vocab = sorted(set(words))\n",
        "word2idx = {w: i for i, w in enumerate(vocab)}\n",
        "idx2word = {i: w for w,i in word2idx.items()}\n",
        "vocab_size = len(vocab)\n",
        "print(vocab_size)"
      ],
      "metadata": {
        "colab": {
          "base_uri": "https://localhost:8080/"
        },
        "id": "bS686IMJKzmF",
        "outputId": "6b39e28b-988e-4b37-fd91-243088c07ab4"
      },
      "execution_count": 3,
      "outputs": [
        {
          "output_type": "stream",
          "name": "stdout",
          "text": [
            "['i', 'love', 'cats', 'i', 'love', 'dogs', 'cats', 'and', 'dogs', 'are', 'friends']\n",
            "7\n"
          ]
        }
      ]
    },
    {
      "cell_type": "code",
      "source": [
        "print(\"vocab:\", vocab)\n",
        "print(\"word2inx:\", word2idx)"
      ],
      "metadata": {
        "colab": {
          "base_uri": "https://localhost:8080/"
        },
        "id": "5GKpegyQNb1r",
        "outputId": "f6578a2f-ef9e-441a-a920-c02275c0e057"
      },
      "execution_count": 4,
      "outputs": [
        {
          "output_type": "stream",
          "name": "stdout",
          "text": [
            "vocab: ['and', 'are', 'cats', 'dogs', 'friends', 'i', 'love']\n",
            "word2inx: {'and': 0, 'are': 1, 'cats': 2, 'dogs': 3, 'friends': 4, 'i': 5, 'love': 6}\n"
          ]
        }
      ]
    },
    {
      "cell_type": "code",
      "source": [
        "sequences = [[word2idx[w] for w in s.split()] for s in sentences]\n",
        "sequences"
      ],
      "metadata": {
        "colab": {
          "base_uri": "https://localhost:8080/"
        },
        "id": "6G8vHIS4Njai",
        "outputId": "14947e7b-858b-410e-d658-999e935b7a1a"
      },
      "execution_count": 5,
      "outputs": [
        {
          "output_type": "execute_result",
          "data": {
            "text/plain": [
              "[[5, 6, 2], [5, 6, 3], [2, 0, 3, 1, 4]]"
            ]
          },
          "metadata": {},
          "execution_count": 5
        }
      ]
    },
    {
      "cell_type": "code",
      "source": [
        "contexts = []\n",
        "targets = []\n",
        "window = 1"
      ],
      "metadata": {
        "id": "axGLVoqbN8Mq"
      },
      "execution_count": 6,
      "outputs": []
    },
    {
      "cell_type": "code",
      "source": [
        "#only considering positions that have both left and right words\n",
        "\n",
        "for seq in sequences:\n",
        "  for i in range(window, len(seq)-window):\n",
        "    context = [seq[i-1], seq[i+1]] #left and right\n",
        "    target = seq[i]\n",
        "    contexts.append(context)\n",
        "    targets.append(target)"
      ],
      "metadata": {
        "id": "kHFcnwSNOkwi"
      },
      "execution_count": 7,
      "outputs": []
    },
    {
      "cell_type": "code",
      "source": [
        "contexts"
      ],
      "metadata": {
        "colab": {
          "base_uri": "https://localhost:8080/"
        },
        "id": "tFPdZiROPB_z",
        "outputId": "f6a828db-6649-40bd-f433-c55cbdad6142"
      },
      "execution_count": 8,
      "outputs": [
        {
          "output_type": "execute_result",
          "data": {
            "text/plain": [
              "[[5, 2], [5, 3], [2, 3], [0, 1], [3, 4]]"
            ]
          },
          "metadata": {},
          "execution_count": 8
        }
      ]
    },
    {
      "cell_type": "code",
      "source": [
        "targets"
      ],
      "metadata": {
        "colab": {
          "base_uri": "https://localhost:8080/"
        },
        "id": "0neRgMJuPKli",
        "outputId": "b4bb58e4-95d2-41fa-99eb-3495ec38a52c"
      },
      "execution_count": 9,
      "outputs": [
        {
          "output_type": "execute_result",
          "data": {
            "text/plain": [
              "[6, 6, 0, 3, 1]"
            ]
          },
          "metadata": {},
          "execution_count": 9
        }
      ]
    },
    {
      "cell_type": "code",
      "source": [
        "contexts = torch.tensor(contexts, dtype=torch.long)\n",
        "print(contexts)\n",
        "targets = torch.tensor(targets, dtype=torch.long)\n",
        "print(targets)"
      ],
      "metadata": {
        "colab": {
          "base_uri": "https://localhost:8080/"
        },
        "id": "xTOVvKKtPfmD",
        "outputId": "8822ce30-be76-4da3-928f-a5c109ae7943"
      },
      "execution_count": 10,
      "outputs": [
        {
          "output_type": "stream",
          "name": "stdout",
          "text": [
            "tensor([[5, 2],\n",
            "        [5, 3],\n",
            "        [2, 3],\n",
            "        [0, 1],\n",
            "        [3, 4]])\n",
            "tensor([6, 6, 0, 3, 1])\n"
          ]
        }
      ]
    },
    {
      "cell_type": "code",
      "source": [
        "class CBOWDataset(Dataset):\n",
        "    def __init__(self, contexts, targets):\n",
        "        self.contexts = contexts\n",
        "        self.targets = targets\n",
        "    def __len__(self):\n",
        "        return len(self.targets)\n",
        "    def __getitem__(self, idx):\n",
        "        return self.contexts[idx], self.targets[idx]"
      ],
      "metadata": {
        "id": "LSHdljh2QJdy"
      },
      "execution_count": 11,
      "outputs": []
    },
    {
      "cell_type": "code",
      "source": [
        "dataset = CBOWDataset(contexts, targets)\n",
        "loader = DataLoader(dataset, batch_size=2, shuffle=True)"
      ],
      "metadata": {
        "id": "GNvciocPvaSg"
      },
      "execution_count": 12,
      "outputs": []
    },
    {
      "cell_type": "code",
      "source": [
        "class CBOW(nn.Module):\n",
        "    def __init__(self, vocab_size, emb_dim):\n",
        "        super().__init__()\n",
        "        self.emb = nn.Embedding(vocab_size, emb_dim)\n",
        "        self.fc = nn.Linear(emb_dim, vocab_size)\n",
        "\n",
        "    def forward(self, x):\n",
        "        embeds = self.emb(x)\n",
        "        mean = embeds.mean(dim=1)\n",
        "        out = self.fc(mean)\n",
        "        return out"
      ],
      "metadata": {
        "id": "BtbowIU5vbth"
      },
      "execution_count": 13,
      "outputs": []
    },
    {
      "cell_type": "code",
      "source": [
        "emb_dim = 10\n",
        "model = CBOW(vocab_size=vocab_size, emb_dim=emb_dim)\n",
        "criterion = nn.CrossEntropyLoss()\n",
        "optimizer = optim.Adam(model.parameters(), lr=0.01)"
      ],
      "metadata": {
        "id": "HrcBN-Jzvd9o"
      },
      "execution_count": 14,
      "outputs": []
    },
    {
      "cell_type": "code",
      "source": [
        "epochs = 150\n",
        "for epoch in range(1, epochs + 1):\n",
        "    total_loss = 0.0\n",
        "    for ctx, tgt in loader:\n",
        "        optimizer.zero_grad()\n",
        "        logits = model(ctx)\n",
        "        loss = criterion(logits, tgt)\n",
        "        loss.backward()\n",
        "        optimizer.step()\n",
        "        total_loss += loss.item()\n",
        "    if epoch % 30 == 0 or epoch == 1:\n",
        "        print(f\"Epoch {epoch:3d} - avg loss: {total_loss / len(loader):.4f}\")"
      ],
      "metadata": {
        "colab": {
          "base_uri": "https://localhost:8080/"
        },
        "id": "HUH7ASJtvfAl",
        "outputId": "33d9bea0-f936-436a-bb41-afe0c7af8f52"
      },
      "execution_count": 15,
      "outputs": [
        {
          "output_type": "stream",
          "name": "stdout",
          "text": [
            "Epoch   1 - avg loss: 1.8932\n",
            "Epoch  30 - avg loss: 0.1896\n",
            "Epoch  60 - avg loss: 0.0368\n",
            "Epoch  90 - avg loss: 0.0192\n",
            "Epoch 120 - avg loss: 0.0104\n",
            "Epoch 150 - avg loss: 0.0055\n"
          ]
        }
      ]
    },
    {
      "cell_type": "code",
      "source": [
        "embeddings = model.emb.weight.detach().numpy()\n",
        "for word, idx in word2idx.items():\n",
        "    print(word, embeddings[idx][:5])"
      ],
      "metadata": {
        "colab": {
          "base_uri": "https://localhost:8080/"
        },
        "id": "fp1aGRKXvgbX",
        "outputId": "a46800af-0806-4641-a9cd-a261bc6f068b"
      },
      "execution_count": 16,
      "outputs": [
        {
          "output_type": "stream",
          "name": "stdout",
          "text": [
            "and [ 3.3820736   0.5001095  -0.23621322 -1.3641393  -0.18905242]\n",
            "are [ 1.0290234  -0.7453744   1.7554126   0.08215817 -0.9867991 ]\n",
            "cats [-0.77449286  0.03931859  0.59852093  1.4365642   1.1196452 ]\n",
            "dogs [-1.2772852  0.6949459 -0.7905663  1.4546074  2.192363 ]\n",
            "friends [ 0.8086073   0.36950937 -2.0837982   1.0096343   0.11085237]\n",
            "i [-0.4513455 -2.0338087 -1.3544607 -2.953002  -2.0117567]\n",
            "love [-0.22716475 -1.6090178  -0.09160855  1.7066832   0.94668406]\n"
          ]
        }
      ]
    },
    {
      "cell_type": "code",
      "source": [
        "def predict(context_words):\n",
        "    idxs = torch.tensor([[word2idx[w] for w in context_words]], dtype=torch.long)  # [1,2]\n",
        "    with torch.no_grad():\n",
        "        logits = model(idxs)             # [1, vocab_size]\n",
        "        pred_idx = logits.argmax(dim=1).item()\n",
        "    return idx2word[pred_idx]"
      ],
      "metadata": {
        "id": "SkYgJhmlvhyI"
      },
      "execution_count": 17,
      "outputs": []
    },
    {
      "cell_type": "code",
      "source": [
        "print(\"Example prediction for context ['i', 'cats'] ->\", predict(['i', 'cats']))\n",
        "print(\"Example prediction for context ['cats', 'are'] ->\", predict(['cats', 'are']))"
      ],
      "metadata": {
        "colab": {
          "base_uri": "https://localhost:8080/"
        },
        "id": "I4-fUljLvjh8",
        "outputId": "106ad61c-8ddb-4869-fa5f-edfd9e46bc10"
      },
      "execution_count": 18,
      "outputs": [
        {
          "output_type": "stream",
          "name": "stdout",
          "text": [
            "Example prediction for context ['i', 'cats'] -> love\n",
            "Example prediction for context ['cats', 'are'] -> dogs\n"
          ]
        }
      ]
    }
  ]
}