{
  "nbformat": 4,
  "nbformat_minor": 0,
  "metadata": {
    "colab": {
      "provenance": [],
      "authorship_tag": "ABX9TyPRXR4z41p/skp/SV4iSOsY",
      "include_colab_link": true
    },
    "kernelspec": {
      "name": "python3",
      "display_name": "Python 3"
    },
    "language_info": {
      "name": "python"
    }
  },
  "cells": [
    {
      "cell_type": "markdown",
      "metadata": {
        "id": "view-in-github",
        "colab_type": "text"
      },
      "source": [
        "<a href=\"https://colab.research.google.com/github/SanjayBista1010/DeepLearning/blob/main/NLP.ipynb\" target=\"_parent\"><img src=\"https://colab.research.google.com/assets/colab-badge.svg\" alt=\"Open In Colab\"/></a>"
      ]
    },
    {
      "cell_type": "code",
      "execution_count": null,
      "metadata": {
        "id": "wGL2mNnRXDmT"
      },
      "outputs": [],
      "source": [
        "'''\n",
        "Automate customer service with Text App — an AI-first support platform packed with live chat, help desk, and AI agents.\n",
        "'''"
      ]
    },
    {
      "cell_type": "markdown",
      "source": [
        "#TEXT NORMALIZATION"
      ],
      "metadata": {
        "id": "vS7oe0BAZNDf"
      }
    },
    {
      "cell_type": "code",
      "source": [
        "string = 'Automate customer service with Text App — an AI-first support platform packed with live chat, help desk, and AI agents.'\n",
        "\n",
        "lower = string.lower()\n",
        "lower"
      ],
      "metadata": {
        "colab": {
          "base_uri": "https://localhost:8080/",
          "height": 35
        },
        "id": "o8CNV_qLYIyX",
        "outputId": "a2696dca-4d15-4612-a80a-cd5c3a255fd1"
      },
      "execution_count": null,
      "outputs": [
        {
          "output_type": "execute_result",
          "data": {
            "text/plain": [
              "'automate customer service with text app — an ai-first support platform packed with live chat, help desk, and ai agents.'"
            ],
            "application/vnd.google.colaboratory.intrinsic+json": {
              "type": "string"
            }
          },
          "metadata": {},
          "execution_count": 1
        }
      ]
    },
    {
      "cell_type": "code",
      "source": [
        "s='apple banana apple apple orange'\n",
        "s.find('apple')"
      ],
      "metadata": {
        "colab": {
          "base_uri": "https://localhost:8080/"
        },
        "id": "c892PP5ZZYIM",
        "outputId": "a5e698c4-07fd-41fa-e4e3-09ad397cb43e"
      },
      "execution_count": null,
      "outputs": [
        {
          "output_type": "execute_result",
          "data": {
            "text/plain": [
              "0"
            ]
          },
          "metadata": {},
          "execution_count": 2
        }
      ]
    },
    {
      "cell_type": "code",
      "source": [
        "s.replace('apple', 'orange')"
      ],
      "metadata": {
        "colab": {
          "base_uri": "https://localhost:8080/",
          "height": 35
        },
        "id": "BePnMjbSawMw",
        "outputId": "5f86374f-da09-4288-cb32-76dc2c986746"
      },
      "execution_count": null,
      "outputs": [
        {
          "output_type": "execute_result",
          "data": {
            "text/plain": [
              "'orange banana orange orange orange'"
            ],
            "application/vnd.google.colaboratory.intrinsic+json": {
              "type": "string"
            }
          },
          "metadata": {},
          "execution_count": 3
        }
      ]
    },
    {
      "cell_type": "code",
      "source": [
        "import re\n",
        "\n",
        "pattern = r'[ :,—]'\n",
        "parts = re.split(pattern, string)\n",
        "parts"
      ],
      "metadata": {
        "colab": {
          "base_uri": "https://localhost:8080/"
        },
        "id": "O1TxnjOTdLtx",
        "outputId": "765483c4-fa62-4e0a-cd6e-9a42fa99feb0"
      },
      "execution_count": null,
      "outputs": [
        {
          "output_type": "execute_result",
          "data": {
            "text/plain": [
              "['It',\n",
              " 'was',\n",
              " 'a',\n",
              " 'bright',\n",
              " 'sunny',\n",
              " 'day1',\n",
              " 'The',\n",
              " 'birds',\n",
              " 'were',\n",
              " 'singing2',\n",
              " 'and',\n",
              " 'the',\n",
              " 'children',\n",
              " 'were',\n",
              " 'playing',\n",
              " 'outside1',\n",
              " 'Suddenly2',\n",
              " 'a',\n",
              " 'loud',\n",
              " 'noise',\n",
              " 'startled',\n",
              " 'everyone3',\n",
              " 'What',\n",
              " 'could',\n",
              " 'it',\n",
              " 'be2',\n",
              " 'They',\n",
              " 'all',\n",
              " 'ran',\n",
              " 'to',\n",
              " 'see1']"
            ]
          },
          "metadata": {},
          "execution_count": 10
        }
      ]
    },
    {
      "cell_type": "code",
      "source": [
        "text = 'Hello World'\n",
        "pattern = r'World'"
      ],
      "metadata": {
        "id": "8yj5WoXReSEi"
      },
      "execution_count": null,
      "outputs": []
    },
    {
      "cell_type": "code",
      "source": [
        "string = \"It was a bright sunny day1 The birds were singing2        and the children---@@#$$!@!&^!@ were playing outside1 Suddenly2 a loud noise startled everyone3 What could it be2 They all ran to see1\"\n",
        "\n",
        "lower_string = string.lower()\n",
        "\n",
        "no_number_string = re.sub(r'\\d','', lower_string)\n",
        "letters_only = re.sub(r'[^\\w]+', ' ', lower_string)\n",
        "clean_letters = re.sub(r'[\\s]+',' ', letters_only)\n",
        "clean_letters"
      ],
      "metadata": {
        "colab": {
          "base_uri": "https://localhost:8080/",
          "height": 35
        },
        "id": "K9pbodg5gTMF",
        "outputId": "8eb56290-7783-40df-c66b-828b65b47098"
      },
      "execution_count": null,
      "outputs": [
        {
          "output_type": "execute_result",
          "data": {
            "text/plain": [
              "'it was a bright sunny day1 the birds were singing2 and the children were playing outside1 suddenly2 a loud noise startled everyone3 what could it be2 they all ran to see1'"
            ],
            "application/vnd.google.colaboratory.intrinsic+json": {
              "type": "string"
            }
          },
          "metadata": {},
          "execution_count": 36
        }
      ]
    },
    {
      "cell_type": "code",
      "source": [
        "#document=single document\n",
        "#corpus = document of documents\n",
        "#vocabulary=unique words\n",
        "#word=words in vocubulary"
      ],
      "metadata": {
        "id": "ABjfyFdLkLoi"
      },
      "execution_count": null,
      "outputs": []
    },
    {
      "cell_type": "code",
      "source": [
        "import pandas as pd\n",
        "from sklearn.feature_extraction.text import CountVectorizer\n",
        "from sklearn.naive_bayes import MultinomialNB\n",
        "\n",
        "data = {\n",
        "    'Category': ['Not Spam', 'Not Spam', 'Not Spam', 'Spam', 'Spam', 'Spam'],\n",
        "    'Email': [\n",
        "        'Hi, how are you?',\n",
        "        'Are we meeting today?',\n",
        "        'Please review the report.',\n",
        "        'Win a free iPhone now!',\n",
        "        'Congratulations! You have won!',\n",
        "        'Claim your free prize today!'\n",
        "    ]\n",
        "}\n",
        "\n",
        "\n",
        "df = pd.DataFrame(data)\n",
        "print(df)"
      ],
      "metadata": {
        "colab": {
          "base_uri": "https://localhost:8080/"
        },
        "id": "50Zd5vt3lYNM",
        "outputId": "306282d9-123c-44ea-83cc-c5ea4147682a"
      },
      "execution_count": null,
      "outputs": [
        {
          "output_type": "stream",
          "name": "stdout",
          "text": [
            "   Category                           Email\n",
            "0  Not Spam                Hi, how are you?\n",
            "1  Not Spam           Are we meeting today?\n",
            "2  Not Spam       Please review the report.\n",
            "3      Spam          Win a free iPhone now!\n",
            "4      Spam  Congratulations! You have won!\n",
            "5      Spam    Claim your free prize today!\n"
          ]
        }
      ]
    },
    {
      "cell_type": "code",
      "source": [
        "test_emails = ['Free meeting towmorrow', 'Claim your free prize']"
      ],
      "metadata": {
        "id": "Da99xMePq7wq"
      },
      "execution_count": null,
      "outputs": []
    },
    {
      "cell_type": "code",
      "source": [
        "vectorize = CountVectorizer()\n",
        "X = vectorize.fit_transform(df['Email'])\n",
        "y=df['Category']\n",
        "\n",
        "X_test = vectorize.transform(test_emails)"
      ],
      "metadata": {
        "id": "mX0wINfRrIMi"
      },
      "execution_count": null,
      "outputs": []
    },
    {
      "cell_type": "code",
      "source": [
        "vectorize.get_feature_names_out()"
      ],
      "metadata": {
        "colab": {
          "base_uri": "https://localhost:8080/"
        },
        "id": "eMGPk2yTrfs5",
        "outputId": "1f2cf1cb-7802-434c-fb71-fe8d0776b20e"
      },
      "execution_count": null,
      "outputs": [
        {
          "output_type": "execute_result",
          "data": {
            "text/plain": [
              "array(['are', 'claim', 'congratulations', 'free', 'have', 'hi', 'how',\n",
              "       'iphone', 'meeting', 'now', 'please', 'prize', 'report', 'review',\n",
              "       'the', 'today', 'we', 'win', 'won', 'you', 'your'], dtype=object)"
            ]
          },
          "metadata": {},
          "execution_count": 23
        }
      ]
    },
    {
      "cell_type": "code",
      "source": [
        "X.toarray()"
      ],
      "metadata": {
        "colab": {
          "base_uri": "https://localhost:8080/"
        },
        "id": "qqBzLMJYsF64",
        "outputId": "7015e4e9-6e2c-45f4-8a57-caf90420e201"
      },
      "execution_count": null,
      "outputs": [
        {
          "output_type": "execute_result",
          "data": {
            "text/plain": [
              "array([[1, 0, 0, 0, 0, 1, 1, 0, 0, 0, 0, 0, 0, 0, 0, 0, 0, 0, 0, 1, 0],\n",
              "       [1, 0, 0, 0, 0, 0, 0, 0, 1, 0, 0, 0, 0, 0, 0, 1, 1, 0, 0, 0, 0],\n",
              "       [0, 0, 0, 0, 0, 0, 0, 0, 0, 0, 1, 0, 1, 1, 1, 0, 0, 0, 0, 0, 0],\n",
              "       [0, 0, 0, 1, 0, 0, 0, 1, 0, 1, 0, 0, 0, 0, 0, 0, 0, 1, 0, 0, 0],\n",
              "       [0, 0, 1, 0, 1, 0, 0, 0, 0, 0, 0, 0, 0, 0, 0, 0, 0, 0, 1, 1, 0],\n",
              "       [0, 1, 0, 1, 0, 0, 0, 0, 0, 0, 0, 1, 0, 0, 0, 1, 0, 0, 0, 0, 1]])"
            ]
          },
          "metadata": {},
          "execution_count": 27
        }
      ]
    },
    {
      "cell_type": "markdown",
      "source": [
        "#TF-IDF"
      ],
      "metadata": {
        "id": "JdlufYbPuxtT"
      }
    },
    {
      "cell_type": "code",
      "source": [
        "from sklearn.feature_extraction.text import TfidfVectorizer\n",
        "\n",
        "corpus =  ['blue sky',\n",
        "          'bright sun today',\n",
        "          'bright sun sky',\n",
        "          'can see bright sun shining']\n",
        "\n",
        "vectorizer = TfidfVectorizer()"
      ],
      "metadata": {
        "id": "MNe-2_vsu0Dy"
      },
      "execution_count": null,
      "outputs": []
    },
    {
      "cell_type": "code",
      "source": [
        "X = vectorizer.fit_transform(corpus)\n",
        "tfidf_matrix= X.toarray()\n",
        "tfidf_matrix"
      ],
      "metadata": {
        "colab": {
          "base_uri": "https://localhost:8080/"
        },
        "id": "9fMUQx9_vi4X",
        "outputId": "3d73db73-f098-4dc3-eff5-a23c0f862ad3"
      },
      "execution_count": null,
      "outputs": [
        {
          "output_type": "execute_result",
          "data": {
            "text/plain": [
              "array([[0.78528828, 0.        , 0.        , 0.        , 0.        ,\n",
              "        0.6191303 , 0.        , 0.        ],\n",
              "       [0.        , 0.47380449, 0.        , 0.        , 0.        ,\n",
              "        0.        , 0.47380449, 0.74230628],\n",
              "       [0.        , 0.53256952, 0.        , 0.        , 0.        ,\n",
              "        0.65782931, 0.53256952, 0.        ],\n",
              "       [0.        , 0.32679768, 0.51199172, 0.51199172, 0.51199172,\n",
              "        0.        , 0.32679768, 0.        ]])"
            ]
          },
          "metadata": {},
          "execution_count": 8
        }
      ]
    },
    {
      "cell_type": "code",
      "source": [
        "print('Vocabulary', vectorizer.get_feature_names_out())\n",
        "print('\\nTD-IDF\\n')\n",
        "for i, doc in enumerate(tfidf_matrix):\n",
        "  print(f'Doc {i+1}:{doc}')"
      ],
      "metadata": {
        "colab": {
          "base_uri": "https://localhost:8080/"
        },
        "id": "fUOcf64Lxz8P",
        "outputId": "eb53f78d-4464-4b66-e665-ebbb4336a855"
      },
      "execution_count": null,
      "outputs": [
        {
          "output_type": "stream",
          "name": "stdout",
          "text": [
            "Vocabulary ['blue' 'bright' 'can' 'see' 'shining' 'sky' 'sun' 'today']\n",
            "\n",
            "TD-IDF\n",
            "\n",
            "Doc 1:[0.78528828 0.         0.         0.         0.         0.6191303\n",
            " 0.         0.        ]\n",
            "Doc 2:[0.         0.47380449 0.         0.         0.         0.\n",
            " 0.47380449 0.74230628]\n",
            "Doc 3:[0.         0.53256952 0.         0.         0.         0.65782931\n",
            " 0.53256952 0.        ]\n",
            "Doc 4:[0.         0.32679768 0.51199172 0.51199172 0.51199172 0.\n",
            " 0.32679768 0.        ]\n"
          ]
        }
      ]
    }
  ]
}