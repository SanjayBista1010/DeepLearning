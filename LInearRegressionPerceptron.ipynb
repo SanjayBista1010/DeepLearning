{
  "nbformat": 4,
  "nbformat_minor": 0,
  "metadata": {
    "colab": {
      "provenance": [],
      "authorship_tag": "ABX9TyNSR3be0havNJnGo3PyaljE",
      "include_colab_link": true
    },
    "kernelspec": {
      "name": "python3",
      "display_name": "Python 3"
    },
    "language_info": {
      "name": "python"
    }
  },
  "cells": [
    {
      "cell_type": "markdown",
      "metadata": {
        "id": "view-in-github",
        "colab_type": "text"
      },
      "source": [
        "<a href=\"https://colab.research.google.com/github/SanjayBista1010/DeepLearning/blob/main/LInearRegressionPerceptron.ipynb\" target=\"_parent\"><img src=\"https://colab.research.google.com/assets/colab-badge.svg\" alt=\"Open In Colab\"/></a>"
      ]
    },
    {
      "cell_type": "code",
      "execution_count": 12,
      "metadata": {
        "id": "hhxe7YWssCEX",
        "colab": {
          "base_uri": "https://localhost:8080/"
        },
        "outputId": "a1f84eb1-ec59-4d88-f003-785e74fa8920"
      },
      "outputs": [
        {
          "output_type": "stream",
          "name": "stdout",
          "text": [
            "Epoch 0 MSE = 0.4000, w = 2, b = 0\n",
            "Epoch 100 MSE = 0.0000, w = 1, b = -3\n",
            "Epoch 200 MSE = 0.0000, w = 1, b = -3\n",
            "Epoch 300 MSE = 0.0000, w = 1, b = -3\n",
            "Epoch 400 MSE = 0.0000, w = 1, b = -3\n",
            "Epoch 500 MSE = 0.0000, w = 1, b = -3\n",
            "Epoch 600 MSE = 0.0000, w = 1, b = -3\n",
            "Epoch 700 MSE = 0.0000, w = 1, b = -3\n",
            "Epoch 800 MSE = 0.0000, w = 1, b = -3\n",
            "Epoch 900 MSE = 0.0000, w = 1, b = -3\n",
            "\n",
            "Final weights: w = 1, b = -3\n"
          ]
        }
      ],
      "source": [
        "x = [[1], [2], [3], [4], [5]]\n",
        "y = [0, 0, 1, 1, 1]\n",
        "\n",
        "N = len(x)\n",
        "w = 0\n",
        "b = 0\n",
        "epochs = 1000\n",
        "\n",
        "for i in range(epochs):\n",
        "    total_error = 0\n",
        "\n",
        "    for j in range(N):\n",
        "        y_pred = int(w * x[j][0] + b >= 0)\n",
        "        error = y[j] - y_pred\n",
        "\n",
        "        w = w + x[j][0] * error\n",
        "        b = b + error\n",
        "\n",
        "        total_error += error ** 2\n",
        "\n",
        "    if i % 100 == 0:\n",
        "        mse = total_error / N\n",
        "        print(f\"Epoch {i} MSE = {mse:.4f}, w = {w}, b = {b}\")\n",
        "\n",
        "print(f\"\\nFinal weights: w = {w}, b = {b}\")\n"
      ]
    },
    {
      "cell_type": "code",
      "source": [],
      "metadata": {
        "id": "-QeUchxRCmpf"
      },
      "execution_count": null,
      "outputs": []
    }
  ]
}